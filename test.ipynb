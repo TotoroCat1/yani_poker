{
 "cells": [
  {
   "cell_type": "code",
   "execution_count": 5,
   "id": "ae10518c-6098-4744-983d-4486b6b96ea0",
   "metadata": {},
   "outputs": [],
   "source": [
    "path_1 = \"hello\";path_2 = \"World\""
   ]
  },
  {
   "cell_type": "markdown",
   "id": "35622ef0-e2c3-446e-b3f9-35d6429db06b",
   "metadata": {},
   "source": [
    "Guaguagua"
   ]
  },
  {
   "cell_type": "code",
   "execution_count": 6,
   "id": "8ba5b3ae-8a24-4225-96ac-2390c47efc3a",
   "metadata": {},
   "outputs": [
    {
     "name": "stdout",
     "output_type": "stream",
     "text": [
      "hello\n",
      "World\n"
     ]
    }
   ],
   "source": [
    "print(path1, path2)"
   ]
  },
  {
   "cell_type": "code",
   "execution_count": 8,
   "id": "61427301-3b78-42fe-8615-b9f2526f89e0",
   "metadata": {},
   "outputs": [
    {
     "data": {
      "text/plain": [
       "'C:\\\\Users\\\\Yani.Zhao\\\\Projects\\\\test_papermill'"
      ]
     },
     "execution_count": 8,
     "metadata": {},
     "output_type": "execute_result"
    }
   ],
   "source": [
    "import os\n",
    "os.environ['VIRTUAL_ENV']\n"
   ]
  },
  {
   "cell_type": "code",
   "execution_count": null,
   "id": "2bc5b15e-ab68-48cf-babe-d29f3d084cc3",
   "metadata": {},
   "outputs": [],
   "source": []
  },
  {
   "cell_type": "code",
   "execution_count": null,
   "id": "37be972d-23c9-4e2a-a135-9fcdb2e25c89",
   "metadata": {},
   "outputs": [],
   "source": []
  },
  {
   "cell_type": "code",
   "execution_count": null,
   "id": "7f0b3ab4-82c0-4367-9ed8-2dc8dc63e442",
   "metadata": {},
   "outputs": [],
   "source": []
  }
 ],
 "metadata": {
  "kernelspec": {
   "display_name": "yani",
   "language": "python",
   "name": "yani_test"
  },
  "language_info": {
   "codemirror_mode": {
    "name": "ipython",
    "version": 3
   },
   "file_extension": ".py",
   "mimetype": "text/x-python",
   "name": "python",
   "nbconvert_exporter": "python",
   "pygments_lexer": "ipython3",
   "version": "3.12.0"
  }
 },
 "nbformat": 4,
 "nbformat_minor": 5
}
